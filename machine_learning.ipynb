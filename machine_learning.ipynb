{
 "cells": [
  {
   "cell_type": "code",
   "execution_count": 444,
   "metadata": {},
   "outputs": [],
   "source": [
    "import numpy as np\n",
    "import pandas as pd\n",
    "import matplotlib.pyplot as plt\n",
    "import seaborn as sns\n",
    "from sklearn.model_selection import train_test_split\n",
    "from sklearn.pipeline import Pipeline\n",
    "from sklearn.metrics import confusion_matrix, make_scorer, accuracy_score\n",
    "from sklearn.preprocessing import StandardScaler\n",
    "\n",
    "from sklearn.linear_model import LinearRegression\n",
    "from sklearn.linear_model import ElasticNet\n",
    "from sklearn.linear_model import HuberRegressor\n",
    "from sklearn.ensemble import RandomForestRegressor\n",
    "from sklearn.ensemble import GradientBoostingRegressor\n",
    "from sklearn.ensemble import AdaBoostRegressor\n",
    "from mlxtend.regressor import StackingCVRegressor\n",
    "\n",
    "from sklearn.metrics import mean_squared_error\n",
    "from sklearn.metrics import mean_absolute_error\n",
    "from sklearn.metrics import mean_squared_log_error\n",
    "from sklearn.model_selection import GridSearchCV\n",
    "\n",
    "import warnings\n",
    "warnings.simplefilter(\"ignore\")\n"
   ]
  },
  {
   "cell_type": "code",
   "execution_count": 445,
   "metadata": {},
   "outputs": [
    {
     "data": {
      "text/html": [
       "<div>\n",
       "<style scoped>\n",
       "    .dataframe tbody tr th:only-of-type {\n",
       "        vertical-align: middle;\n",
       "    }\n",
       "\n",
       "    .dataframe tbody tr th {\n",
       "        vertical-align: top;\n",
       "    }\n",
       "\n",
       "    .dataframe thead th {\n",
       "        text-align: right;\n",
       "    }\n",
       "</style>\n",
       "<table border=\"1\" class=\"dataframe\">\n",
       "  <thead>\n",
       "    <tr style=\"text-align: right;\">\n",
       "      <th></th>\n",
       "      <th>country_name</th>\n",
       "      <th>country_code</th>\n",
       "      <th>year</th>\n",
       "      <th>population</th>\n",
       "    </tr>\n",
       "  </thead>\n",
       "  <tbody>\n",
       "    <tr>\n",
       "      <th>0</th>\n",
       "      <td>Africa Eastern and Southern</td>\n",
       "      <td>AFE</td>\n",
       "      <td>2021</td>\n",
       "      <td>694665117.0</td>\n",
       "    </tr>\n",
       "    <tr>\n",
       "      <th>1</th>\n",
       "      <td>Africa Eastern and Southern</td>\n",
       "      <td>AFE</td>\n",
       "      <td>2020</td>\n",
       "      <td>677243299.0</td>\n",
       "    </tr>\n",
       "    <tr>\n",
       "      <th>2</th>\n",
       "      <td>Africa Eastern and Southern</td>\n",
       "      <td>AFE</td>\n",
       "      <td>2019</td>\n",
       "      <td>660046272.0</td>\n",
       "    </tr>\n",
       "    <tr>\n",
       "      <th>3</th>\n",
       "      <td>Africa Eastern and Southern</td>\n",
       "      <td>AFE</td>\n",
       "      <td>2018</td>\n",
       "      <td>643090131.0</td>\n",
       "    </tr>\n",
       "    <tr>\n",
       "      <th>4</th>\n",
       "      <td>Africa Eastern and Southern</td>\n",
       "      <td>AFE</td>\n",
       "      <td>2017</td>\n",
       "      <td>626392880.0</td>\n",
       "    </tr>\n",
       "  </tbody>\n",
       "</table>\n",
       "</div>"
      ],
      "text/plain": [
       "                  country_name country_code  year   population\n",
       "0  Africa Eastern and Southern          AFE  2021  694665117.0\n",
       "1  Africa Eastern and Southern          AFE  2020  677243299.0\n",
       "2  Africa Eastern and Southern          AFE  2019  660046272.0\n",
       "3  Africa Eastern and Southern          AFE  2018  643090131.0\n",
       "4  Africa Eastern and Southern          AFE  2017  626392880.0"
      ]
     },
     "execution_count": 445,
     "metadata": {},
     "output_type": "execute_result"
    }
   ],
   "source": [
    "df_population = pd.read_csv('./Data/population.csv')\n",
    "df_population.head()"
   ]
  },
  {
   "cell_type": "markdown",
   "metadata": {},
   "source": [
    "# Regresion"
   ]
  },
  {
   "cell_type": "code",
   "execution_count": 446,
   "metadata": {},
   "outputs": [],
   "source": [
    "linear = LinearRegression()\n",
    "elastic_net = ElasticNet()\n",
    "random_forest = RandomForestRegressor()\n",
    "gradient_boost = GradientBoostingRegressor()\n",
    "ada_boost = AdaBoostRegressor()"
   ]
  },
  {
   "cell_type": "code",
   "execution_count": 447,
   "metadata": {},
   "outputs": [],
   "source": [
    "model = StackingCVRegressor( regressors = [linear, elastic_net, random_forest, gradient_boost, ada_boost],\n",
    "    meta_regressor = elastic_net\n",
    ")"
   ]
  },
  {
   "cell_type": "markdown",
   "metadata": {},
   "source": [
    "##### Documentación mlxtend StackingCVRegressor \n",
    "##### https://rasbt.github.io/mlxtend/user_guide/regressor/StackingCVRegressor/\n"
   ]
  },
  {
   "cell_type": "code",
   "execution_count": 448,
   "metadata": {},
   "outputs": [],
   "source": [
    "paises = df_population.country_code.unique()"
   ]
  },
  {
   "cell_type": "code",
   "execution_count": 449,
   "metadata": {},
   "outputs": [],
   "source": [
    "resultado = pd.DataFrame(columns = [\"country_code\", \"2023\", \"2024\", \"2025\", \"2026\", \"SCORE\", \"MSE\", \"MAE\", \"MAPE\", \"RMSLE\"])"
   ]
  },
  {
   "cell_type": "code",
   "execution_count": 450,
   "metadata": {},
   "outputs": [
    {
     "data": {
      "text/plain": [
       "array([[2023],\n",
       "       [2024],\n",
       "       [2025],\n",
       "       [2026]])"
      ]
     },
     "execution_count": 450,
     "metadata": {},
     "output_type": "execute_result"
    }
   ],
   "source": [
    "prueba = np.array([2023, 2024, 2025, 2026]).reshape(-1,1)\n",
    "prueba"
   ]
  },
  {
   "cell_type": "code",
   "execution_count": 451,
   "metadata": {},
   "outputs": [],
   "source": [
    "for pais in paises:\n",
    "    df_pais = df_population.loc[(df_population['country_code'] == pais)]\n",
    "    X = df_pais.year.values.reshape(-1,1)\n",
    "    y = df_pais.population.values.reshape(-1,1) # np.log1p()\n",
    "    X_train, X_test, y_train, y_test = train_test_split(X, y, test_size = 0.4)\n",
    "    model.fit(X_train,y_train)\n",
    "    y_train_pred = model.predict(X_train)\n",
    "    y_test_pred = model.predict(X_test)\n",
    "    SCORE = model.score(X_test, y_test)\n",
    "    RMSLE = mean_squared_log_error(y_test, y_test_pred, squared = False)\n",
    "    MSE = mean_squared_error(y_test, y_test_pred)\n",
    "    MAE = mean_absolute_error(y_test, y_test_pred)\n",
    "    MAPE = np.mean(np.abs((y_test - y_test_pred) / y_test)) * 100\n",
    "    y_test_pred = model.predict(prueba)\n",
    "    to_append = [pais, model.predict(prueba)[0], model.predict(prueba)[1], model.predict(prueba)[2], model.predict(prueba)[3], SCORE, MSE, MAE, MAPE, RMSLE]\n",
    "    a_series = pd.Series(to_append, index = resultado.columns)\n",
    "    resultado = resultado.append(a_series, ignore_index = True)"
   ]
  },
  {
   "cell_type": "code",
   "execution_count": 456,
   "metadata": {},
   "outputs": [
    {
     "data": {
      "text/html": [
       "<div>\n",
       "<style scoped>\n",
       "    .dataframe tbody tr th:only-of-type {\n",
       "        vertical-align: middle;\n",
       "    }\n",
       "\n",
       "    .dataframe tbody tr th {\n",
       "        vertical-align: top;\n",
       "    }\n",
       "\n",
       "    .dataframe thead th {\n",
       "        text-align: right;\n",
       "    }\n",
       "</style>\n",
       "<table border=\"1\" class=\"dataframe\">\n",
       "  <thead>\n",
       "    <tr style=\"text-align: right;\">\n",
       "      <th></th>\n",
       "      <th>country_code</th>\n",
       "      <th>2023</th>\n",
       "      <th>2024</th>\n",
       "      <th>2025</th>\n",
       "      <th>2026</th>\n",
       "      <th>SCORE</th>\n",
       "      <th>MSE</th>\n",
       "      <th>MAE</th>\n",
       "      <th>MAPE</th>\n",
       "      <th>RMSLE</th>\n",
       "    </tr>\n",
       "  </thead>\n",
       "  <tbody>\n",
       "    <tr>\n",
       "      <th>256</th>\n",
       "      <td>VIR</td>\n",
       "      <td>1.074237e+05</td>\n",
       "      <td>1.074164e+05</td>\n",
       "      <td>1.074092e+05</td>\n",
       "      <td>1.074019e+05</td>\n",
       "      <td>0.976473</td>\n",
       "      <td>1.120915e+07</td>\n",
       "      <td>1885.240070</td>\n",
       "      <td>31.224467</td>\n",
       "      <td>0.045805</td>\n",
       "    </tr>\n",
       "    <tr>\n",
       "      <th>257</th>\n",
       "      <td>PSE</td>\n",
       "      <td>5.014317e+06</td>\n",
       "      <td>5.113738e+06</td>\n",
       "      <td>5.213159e+06</td>\n",
       "      <td>5.312580e+06</td>\n",
       "      <td>0.997065</td>\n",
       "      <td>1.723059e+09</td>\n",
       "      <td>33460.522172</td>\n",
       "      <td>28.508759</td>\n",
       "      <td>0.013367</td>\n",
       "    </tr>\n",
       "    <tr>\n",
       "      <th>258</th>\n",
       "      <td>YEM</td>\n",
       "      <td>2.982768e+07</td>\n",
       "      <td>2.983101e+07</td>\n",
       "      <td>2.983434e+07</td>\n",
       "      <td>2.983767e+07</td>\n",
       "      <td>0.995889</td>\n",
       "      <td>2.690946e+11</td>\n",
       "      <td>380696.440674</td>\n",
       "      <td>75.230213</td>\n",
       "      <td>0.026181</td>\n",
       "    </tr>\n",
       "    <tr>\n",
       "      <th>259</th>\n",
       "      <td>ZMB</td>\n",
       "      <td>1.858666e+07</td>\n",
       "      <td>1.861741e+07</td>\n",
       "      <td>1.864815e+07</td>\n",
       "      <td>1.867890e+07</td>\n",
       "      <td>0.996813</td>\n",
       "      <td>5.335706e+10</td>\n",
       "      <td>155670.000097</td>\n",
       "      <td>62.677563</td>\n",
       "      <td>0.022606</td>\n",
       "    </tr>\n",
       "    <tr>\n",
       "      <th>260</th>\n",
       "      <td>ZWE</td>\n",
       "      <td>1.491326e+07</td>\n",
       "      <td>1.495617e+07</td>\n",
       "      <td>1.499909e+07</td>\n",
       "      <td>1.504200e+07</td>\n",
       "      <td>0.995527</td>\n",
       "      <td>5.445411e+10</td>\n",
       "      <td>184095.616216</td>\n",
       "      <td>53.102324</td>\n",
       "      <td>0.028011</td>\n",
       "    </tr>\n",
       "  </tbody>\n",
       "</table>\n",
       "</div>"
      ],
      "text/plain": [
       "    country_code          2023          2024          2025          2026  \\\n",
       "256          VIR  1.074237e+05  1.074164e+05  1.074092e+05  1.074019e+05   \n",
       "257          PSE  5.014317e+06  5.113738e+06  5.213159e+06  5.312580e+06   \n",
       "258          YEM  2.982768e+07  2.983101e+07  2.983434e+07  2.983767e+07   \n",
       "259          ZMB  1.858666e+07  1.861741e+07  1.864815e+07  1.867890e+07   \n",
       "260          ZWE  1.491326e+07  1.495617e+07  1.499909e+07  1.504200e+07   \n",
       "\n",
       "        SCORE           MSE            MAE       MAPE     RMSLE  \n",
       "256  0.976473  1.120915e+07    1885.240070  31.224467  0.045805  \n",
       "257  0.997065  1.723059e+09   33460.522172  28.508759  0.013367  \n",
       "258  0.995889  2.690946e+11  380696.440674  75.230213  0.026181  \n",
       "259  0.996813  5.335706e+10  155670.000097  62.677563  0.022606  \n",
       "260  0.995527  5.445411e+10  184095.616216  53.102324  0.028011  "
      ]
     },
     "execution_count": 456,
     "metadata": {},
     "output_type": "execute_result"
    }
   ],
   "source": [
    "resultado.tail()"
   ]
  },
  {
   "cell_type": "code",
   "execution_count": 453,
   "metadata": {},
   "outputs": [
    {
     "data": {
      "text/plain": [
       "88614210865231.06"
      ]
     },
     "execution_count": 453,
     "metadata": {},
     "output_type": "execute_result"
    }
   ],
   "source": [
    "resultado['MSE'][0]"
   ]
  },
  {
   "cell_type": "code",
   "execution_count": 454,
   "metadata": {},
   "outputs": [
    {
     "data": {
      "text/plain": [
       "(688322789.9836468, 689049276.2830535, 689775762.5824603, 690502248.881867)"
      ]
     },
     "execution_count": 454,
     "metadata": {},
     "output_type": "execute_result"
    }
   ],
   "source": [
    "resultado['2023'][0], resultado['2024'][0], resultado['2025'][0], resultado['2026'][0]"
   ]
  },
  {
   "cell_type": "code",
   "execution_count": 455,
   "metadata": {},
   "outputs": [
    {
     "ename": "SyntaxError",
     "evalue": "'break' outside loop (<ipython-input-455-6aaf1f276005>, line 1)",
     "output_type": "error",
     "traceback": [
      "\u001b[0;36m  File \u001b[0;32m\"<ipython-input-455-6aaf1f276005>\"\u001b[0;36m, line \u001b[0;32m1\u001b[0m\n\u001b[0;31m    break\u001b[0m\n\u001b[0m    ^\u001b[0m\n\u001b[0;31mSyntaxError\u001b[0m\u001b[0;31m:\u001b[0m 'break' outside loop\n"
     ]
    }
   ],
   "source": [
    "break"
   ]
  },
  {
   "cell_type": "code",
   "execution_count": null,
   "metadata": {},
   "outputs": [],
   "source": [
    "resultado[['country_code', '2023', '2024', '2025', '2026']].to_csv('./Data/Output/forecasts.csv', index = False)"
   ]
  },
  {
   "cell_type": "code",
   "execution_count": null,
   "metadata": {},
   "outputs": [],
   "source": [
    "resultado[['country_code', 'MSE', 'MAE', 'MAPE']].to_csv('./Data/Output/errors.csv', index = False)"
   ]
  }
 ],
 "metadata": {
  "kernelspec": {
   "display_name": "Python 3.8.8 ('base')",
   "language": "python",
   "name": "python3"
  },
  "language_info": {
   "codemirror_mode": {
    "name": "ipython",
    "version": 3
   },
   "file_extension": ".py",
   "mimetype": "text/x-python",
   "name": "python",
   "nbconvert_exporter": "python",
   "pygments_lexer": "ipython3",
   "version": "3.8.8"
  },
  "orig_nbformat": 4,
  "vscode": {
   "interpreter": {
    "hash": "651c3b7b3f466eb030aa737f279c846be4db9cba49a2f229278cab5e41121ed5"
   }
  }
 },
 "nbformat": 4,
 "nbformat_minor": 2
}
