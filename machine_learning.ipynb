{
 "cells": [
  {
   "cell_type": "code",
   "execution_count": 180,
   "metadata": {},
   "outputs": [],
   "source": [
    "import numpy as np\n",
    "import pandas as pd\n",
    "import matplotlib.pyplot as plt\n",
    "import seaborn as sns\n",
    "from sklearn.model_selection import train_test_split\n",
    "from sklearn.pipeline import Pipeline\n",
    "from sklearn.metrics import confusion_matrix, make_scorer, accuracy_score\n",
    "from sklearn.preprocessing import StandardScaler\n",
    "\n",
    "from sklearn.linear_model import LinearRegression\n",
    "from sklearn.linear_model import ElasticNet\n",
    "from sklearn.linear_model import HuberRegressor\n",
    "from sklearn.ensemble import RandomForestRegressor\n",
    "from sklearn.ensemble import GradientBoostingRegressor\n",
    "from sklearn.ensemble import AdaBoostRegressor\n",
    "from mlxtend.regressor import StackingCVRegressor\n",
    "\n",
    "from sklearn.metrics import mean_squared_error\n",
    "from sklearn.metrics import mean_absolute_error\n",
    "\n",
    "import warnings\n",
    "warnings.simplefilter(\"ignore\")\n"
   ]
  },
  {
   "cell_type": "code",
   "execution_count": 181,
   "metadata": {},
   "outputs": [
    {
     "data": {
      "text/html": [
       "<div>\n",
       "<style scoped>\n",
       "    .dataframe tbody tr th:only-of-type {\n",
       "        vertical-align: middle;\n",
       "    }\n",
       "\n",
       "    .dataframe tbody tr th {\n",
       "        vertical-align: top;\n",
       "    }\n",
       "\n",
       "    .dataframe thead th {\n",
       "        text-align: right;\n",
       "    }\n",
       "</style>\n",
       "<table border=\"1\" class=\"dataframe\">\n",
       "  <thead>\n",
       "    <tr style=\"text-align: right;\">\n",
       "      <th></th>\n",
       "      <th>country_name</th>\n",
       "      <th>country_code</th>\n",
       "      <th>year</th>\n",
       "      <th>population</th>\n",
       "    </tr>\n",
       "  </thead>\n",
       "  <tbody>\n",
       "    <tr>\n",
       "      <th>0</th>\n",
       "      <td>Africa Eastern and Southern</td>\n",
       "      <td>AFE</td>\n",
       "      <td>2021</td>\n",
       "      <td>694665117.0</td>\n",
       "    </tr>\n",
       "    <tr>\n",
       "      <th>1</th>\n",
       "      <td>Africa Eastern and Southern</td>\n",
       "      <td>AFE</td>\n",
       "      <td>2020</td>\n",
       "      <td>677243299.0</td>\n",
       "    </tr>\n",
       "    <tr>\n",
       "      <th>2</th>\n",
       "      <td>Africa Eastern and Southern</td>\n",
       "      <td>AFE</td>\n",
       "      <td>2019</td>\n",
       "      <td>660046272.0</td>\n",
       "    </tr>\n",
       "    <tr>\n",
       "      <th>3</th>\n",
       "      <td>Africa Eastern and Southern</td>\n",
       "      <td>AFE</td>\n",
       "      <td>2018</td>\n",
       "      <td>643090131.0</td>\n",
       "    </tr>\n",
       "    <tr>\n",
       "      <th>4</th>\n",
       "      <td>Africa Eastern and Southern</td>\n",
       "      <td>AFE</td>\n",
       "      <td>2017</td>\n",
       "      <td>626392880.0</td>\n",
       "    </tr>\n",
       "  </tbody>\n",
       "</table>\n",
       "</div>"
      ],
      "text/plain": [
       "                  country_name country_code  year   population\n",
       "0  Africa Eastern and Southern          AFE  2021  694665117.0\n",
       "1  Africa Eastern and Southern          AFE  2020  677243299.0\n",
       "2  Africa Eastern and Southern          AFE  2019  660046272.0\n",
       "3  Africa Eastern and Southern          AFE  2018  643090131.0\n",
       "4  Africa Eastern and Southern          AFE  2017  626392880.0"
      ]
     },
     "execution_count": 181,
     "metadata": {},
     "output_type": "execute_result"
    }
   ],
   "source": [
    "df_population = pd.read_csv('./Data/population.csv')\n",
    "df_population.head()"
   ]
  },
  {
   "cell_type": "markdown",
   "metadata": {},
   "source": [
    "# Regresion"
   ]
  },
  {
   "cell_type": "code",
   "execution_count": 182,
   "metadata": {},
   "outputs": [],
   "source": [
    "linear = LinearRegression()\n",
    "elastic_net = ElasticNet()\n",
    "random_forest = RandomForestRegressor()\n",
    "gradient_boost = GradientBoostingRegressor()\n",
    "ada_boost = AdaBoostRegressor()"
   ]
  },
  {
   "cell_type": "code",
   "execution_count": 183,
   "metadata": {},
   "outputs": [],
   "source": [
    "model = StackingCVRegressor( regressors = [linear, elastic_net, random_forest, gradient_boost, ada_boost],\n",
    "    meta_regressor = elastic_net\n",
    ")"
   ]
  },
  {
   "cell_type": "code",
   "execution_count": 184,
   "metadata": {},
   "outputs": [],
   "source": [
    "paises = df_population.country_code.unique()"
   ]
  },
  {
   "cell_type": "code",
   "execution_count": 185,
   "metadata": {},
   "outputs": [],
   "source": [
    "resultado = pd.DataFrame(columns = [\"country_code\", \"2023\", \"2024\", \"2025\", \"2026\", \"MSE\", \"MAE\", \"MAPE\"])"
   ]
  },
  {
   "cell_type": "code",
   "execution_count": 186,
   "metadata": {},
   "outputs": [
    {
     "data": {
      "text/plain": [
       "array([[2023],\n",
       "       [2024],\n",
       "       [2025],\n",
       "       [2026]])"
      ]
     },
     "execution_count": 186,
     "metadata": {},
     "output_type": "execute_result"
    }
   ],
   "source": [
    "prueba = np.array([2023, 2024, 2025, 2026]).reshape(-1,1)\n",
    "prueba"
   ]
  },
  {
   "cell_type": "code",
   "execution_count": 187,
   "metadata": {},
   "outputs": [],
   "source": [
    "for pais in paises:\n",
    "    df_pais = df_population.loc[(df_population['country_code'] == pais)]\n",
    "    X = df_pais.year.values.reshape(-1,1)\n",
    "    y = df_pais.population.values.reshape(-1,1) # np.log1p()\n",
    "    X_train, X_test, y_train, y_test = train_test_split(X, y, test_size = 0.4)\n",
    "    linear.fit(X_train,y_train)\n",
    "    y_train_pred = linear.predict(X_train)\n",
    "    y_test_pred = linear.predict(X_test)\n",
    "    mse = mean_squared_error(y_test, y_test_pred)"
   ]
  },
  {
   "cell_type": "code",
   "execution_count": 188,
   "metadata": {},
   "outputs": [],
   "source": [
    "for pais in paises:\n",
    "    df_pais = df_population.loc[(df_population['country_code'] == pais)]\n",
    "    X = df_pais.year.values.reshape(-1,1)\n",
    "    y = df_pais.population.values.reshape(-1,1) # np.log1p()\n",
    "    X_train, X_test, y_train, y_test = train_test_split(X, y, test_size = 0.4)\n",
    "    model.fit(X_train,y_train)\n",
    "    y_train_pred = model.predict(X_train)\n",
    "    y_test_pred = model.predict(X_test)\n",
    "    MSE = mean_squared_error(y_test, y_test_pred)\n",
    "    MAE = mean_absolute_error(y_test, y_test_pred)\n",
    "    MAPE = np.mean(np.abs((y_test - y_test_pred) / y_test)) * 100\n",
    "    y_test_pred = model.predict(prueba)\n",
    "    to_append = [pais, model.predict(prueba)[0], model.predict(prueba)[1], model.predict(prueba)[2], model.predict(prueba)[3], MSE, MAE, MAPE]\n",
    "    a_series = pd.Series(to_append, index = resultado.columns)\n",
    "    resultado = resultado.append(a_series, ignore_index = True)"
   ]
  },
  {
   "cell_type": "code",
   "execution_count": 189,
   "metadata": {},
   "outputs": [
    {
     "data": {
      "text/html": [
       "<div>\n",
       "<style scoped>\n",
       "    .dataframe tbody tr th:only-of-type {\n",
       "        vertical-align: middle;\n",
       "    }\n",
       "\n",
       "    .dataframe tbody tr th {\n",
       "        vertical-align: top;\n",
       "    }\n",
       "\n",
       "    .dataframe thead th {\n",
       "        text-align: right;\n",
       "    }\n",
       "</style>\n",
       "<table border=\"1\" class=\"dataframe\">\n",
       "  <thead>\n",
       "    <tr style=\"text-align: right;\">\n",
       "      <th></th>\n",
       "      <th>country_code</th>\n",
       "      <th>2023</th>\n",
       "      <th>2024</th>\n",
       "      <th>2025</th>\n",
       "      <th>2026</th>\n",
       "      <th>MSE</th>\n",
       "      <th>MAE</th>\n",
       "      <th>MAPE</th>\n",
       "    </tr>\n",
       "  </thead>\n",
       "  <tbody>\n",
       "    <tr>\n",
       "      <th>0</th>\n",
       "      <td>AFE</td>\n",
       "      <td>6.933008e+08</td>\n",
       "      <td>6.937012e+08</td>\n",
       "      <td>6.941016e+08</td>\n",
       "      <td>6.945020e+08</td>\n",
       "      <td>1.223864e+14</td>\n",
       "      <td>8.465734e+06</td>\n",
       "      <td>65.207951</td>\n",
       "    </tr>\n",
       "    <tr>\n",
       "      <th>1</th>\n",
       "      <td>AFW</td>\n",
       "      <td>4.702763e+08</td>\n",
       "      <td>4.704443e+08</td>\n",
       "      <td>4.706123e+08</td>\n",
       "      <td>4.707803e+08</td>\n",
       "      <td>1.664072e+13</td>\n",
       "      <td>2.801082e+06</td>\n",
       "      <td>62.232932</td>\n",
       "    </tr>\n",
       "    <tr>\n",
       "      <th>2</th>\n",
       "      <td>ARB</td>\n",
       "      <td>4.379006e+08</td>\n",
       "      <td>4.388963e+08</td>\n",
       "      <td>4.398921e+08</td>\n",
       "      <td>4.408878e+08</td>\n",
       "      <td>1.711856e+13</td>\n",
       "      <td>3.081217e+06</td>\n",
       "      <td>64.865245</td>\n",
       "    </tr>\n",
       "    <tr>\n",
       "      <th>3</th>\n",
       "      <td>CSS</td>\n",
       "      <td>7.582967e+06</td>\n",
       "      <td>7.608034e+06</td>\n",
       "      <td>7.633101e+06</td>\n",
       "      <td>7.658167e+06</td>\n",
       "      <td>1.431380e+09</td>\n",
       "      <td>3.006405e+04</td>\n",
       "      <td>18.296338</td>\n",
       "    </tr>\n",
       "    <tr>\n",
       "      <th>4</th>\n",
       "      <td>CEB</td>\n",
       "      <td>1.019113e+08</td>\n",
       "      <td>1.018959e+08</td>\n",
       "      <td>1.018805e+08</td>\n",
       "      <td>1.018651e+08</td>\n",
       "      <td>1.427161e+11</td>\n",
       "      <td>3.073573e+05</td>\n",
       "      <td>5.547222</td>\n",
       "    </tr>\n",
       "  </tbody>\n",
       "</table>\n",
       "</div>"
      ],
      "text/plain": [
       "  country_code          2023          2024          2025          2026  \\\n",
       "0          AFE  6.933008e+08  6.937012e+08  6.941016e+08  6.945020e+08   \n",
       "1          AFW  4.702763e+08  4.704443e+08  4.706123e+08  4.707803e+08   \n",
       "2          ARB  4.379006e+08  4.388963e+08  4.398921e+08  4.408878e+08   \n",
       "3          CSS  7.582967e+06  7.608034e+06  7.633101e+06  7.658167e+06   \n",
       "4          CEB  1.019113e+08  1.018959e+08  1.018805e+08  1.018651e+08   \n",
       "\n",
       "            MSE           MAE       MAPE  \n",
       "0  1.223864e+14  8.465734e+06  65.207951  \n",
       "1  1.664072e+13  2.801082e+06  62.232932  \n",
       "2  1.711856e+13  3.081217e+06  64.865245  \n",
       "3  1.431380e+09  3.006405e+04  18.296338  \n",
       "4  1.427161e+11  3.073573e+05   5.547222  "
      ]
     },
     "execution_count": 189,
     "metadata": {},
     "output_type": "execute_result"
    }
   ],
   "source": [
    "resultado.head()"
   ]
  },
  {
   "cell_type": "code",
   "execution_count": 201,
   "metadata": {},
   "outputs": [],
   "source": [
    "# resultado[['country_code', '2023', '2024', '2025', '2026']].to_csv('./Data/Output/forecasts.csv', index = False)"
   ]
  },
  {
   "cell_type": "code",
   "execution_count": 202,
   "metadata": {},
   "outputs": [],
   "source": [
    "# resultado[['country_code', 'MSE', 'MAE', 'MAPE']].to_csv('./Data/Output/errors.csv', index = False)"
   ]
  }
 ],
 "metadata": {
  "kernelspec": {
   "display_name": "Python 3.8.8 ('base')",
   "language": "python",
   "name": "python3"
  },
  "language_info": {
   "codemirror_mode": {
    "name": "ipython",
    "version": 3
   },
   "file_extension": ".py",
   "mimetype": "text/x-python",
   "name": "python",
   "nbconvert_exporter": "python",
   "pygments_lexer": "ipython3",
   "version": "3.8.8"
  },
  "orig_nbformat": 4,
  "vscode": {
   "interpreter": {
    "hash": "651c3b7b3f466eb030aa737f279c846be4db9cba49a2f229278cab5e41121ed5"
   }
  }
 },
 "nbformat": 4,
 "nbformat_minor": 2
}
